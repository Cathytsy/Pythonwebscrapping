{
  "nbformat": 4,
  "nbformat_minor": 0,
  "metadata": {
    "colab": {
      "provenance": []
    },
    "kernelspec": {
      "name": "python3",
      "display_name": "Python 3"
    },
    "language_info": {
      "name": "python"
    }
  },
  "cells": [
    {
      "cell_type": "code",
      "execution_count": 12,
      "metadata": {
        "colab": {
          "base_uri": "https://localhost:8080/"
        },
        "id": "08E5h8wN8PrU",
        "outputId": "c5c3ee05-ccd2-4b96-f3c2-5c04cef38fb0"
      },
      "outputs": [
        {
          "output_type": "stream",
          "name": "stdout",
          "text": [
            "Requirement already satisfied: requests in /usr/local/lib/python3.10/dist-packages (2.31.0)\n",
            "Requirement already satisfied: beautifulsoup4 in /usr/local/lib/python3.10/dist-packages (4.11.2)\n",
            "Requirement already satisfied: requests-html in /usr/local/lib/python3.10/dist-packages (0.10.0)\n",
            "Requirement already satisfied: charset-normalizer<4,>=2 in /usr/local/lib/python3.10/dist-packages (from requests) (3.3.1)\n",
            "Requirement already satisfied: idna<4,>=2.5 in /usr/local/lib/python3.10/dist-packages (from requests) (3.4)\n",
            "Requirement already satisfied: urllib3<3,>=1.21.1 in /usr/local/lib/python3.10/dist-packages (from requests) (1.26.18)\n",
            "Requirement already satisfied: certifi>=2017.4.17 in /usr/local/lib/python3.10/dist-packages (from requests) (2023.7.22)\n",
            "Requirement already satisfied: soupsieve>1.2 in /usr/local/lib/python3.10/dist-packages (from beautifulsoup4) (2.5)\n",
            "Requirement already satisfied: pyquery in /usr/local/lib/python3.10/dist-packages (from requests-html) (2.0.0)\n",
            "Requirement already satisfied: fake-useragent in /usr/local/lib/python3.10/dist-packages (from requests-html) (1.3.0)\n",
            "Requirement already satisfied: parse in /usr/local/lib/python3.10/dist-packages (from requests-html) (1.19.1)\n",
            "Requirement already satisfied: bs4 in /usr/local/lib/python3.10/dist-packages (from requests-html) (0.0.1)\n",
            "Requirement already satisfied: w3lib in /usr/local/lib/python3.10/dist-packages (from requests-html) (2.1.2)\n",
            "Requirement already satisfied: pyppeteer>=0.0.14 in /usr/local/lib/python3.10/dist-packages (from requests-html) (1.0.2)\n",
            "Requirement already satisfied: appdirs<2.0.0,>=1.4.3 in /usr/local/lib/python3.10/dist-packages (from pyppeteer>=0.0.14->requests-html) (1.4.4)\n",
            "Requirement already satisfied: importlib-metadata>=1.4 in /usr/local/lib/python3.10/dist-packages (from pyppeteer>=0.0.14->requests-html) (6.8.0)\n",
            "Requirement already satisfied: pyee<9.0.0,>=8.1.0 in /usr/local/lib/python3.10/dist-packages (from pyppeteer>=0.0.14->requests-html) (8.2.2)\n",
            "Requirement already satisfied: tqdm<5.0.0,>=4.42.1 in /usr/local/lib/python3.10/dist-packages (from pyppeteer>=0.0.14->requests-html) (4.66.1)\n",
            "Requirement already satisfied: websockets<11.0,>=10.0 in /usr/local/lib/python3.10/dist-packages (from pyppeteer>=0.0.14->requests-html) (10.4)\n",
            "Requirement already satisfied: lxml>=2.1 in /usr/local/lib/python3.10/dist-packages (from pyquery->requests-html) (4.9.3)\n",
            "Requirement already satisfied: cssselect>=1.2.0 in /usr/local/lib/python3.10/dist-packages (from pyquery->requests-html) (1.2.0)\n",
            "Requirement already satisfied: zipp>=0.5 in /usr/local/lib/python3.10/dist-packages (from importlib-metadata>=1.4->pyppeteer>=0.0.14->requests-html) (3.17.0)\n"
          ]
        }
      ],
      "source": [
        "pip install requests beautifulsoup4 requests-html"
      ]
    },
    {
      "cell_type": "code",
      "source": [
        "import pandas as pd\n",
        "from urllib.parse import urlparse\n",
        "import numpy as np\n",
        "import nltk.data\n",
        "from requests_html import HTMLSession\n",
        "import requests\n",
        "from bs4 import BeautifulSoup"
      ],
      "metadata": {
        "id": "3-sPZXkl9-cX"
      },
      "execution_count": 13,
      "outputs": []
    },
    {
      "cell_type": "code",
      "source": [
        "url = requests.get('https://www.cbc.ca/news/canada')\n",
        "soup = BeautifulSoup(url.content, 'html.parser')"
      ],
      "metadata": {
        "id": "8AA3f40UBBfX"
      },
      "execution_count": 14,
      "outputs": []
    },
    {
      "cell_type": "code",
      "source": [
        "news_titles = soup.select('h3.headline')"
      ],
      "metadata": {
        "id": "M0tQNCEKAepU"
      },
      "execution_count": 15,
      "outputs": []
    },
    {
      "cell_type": "code",
      "source": [
        "news_titles[0].text"
      ],
      "metadata": {
        "colab": {
          "base_uri": "https://localhost:8080/",
          "height": 35
        },
        "id": "exv6C4Q7BNab",
        "outputId": "d9ee99e2-d9c0-4c78-b69d-6ab8308f6517"
      },
      "execution_count": 16,
      "outputs": [
        {
          "output_type": "execute_result",
          "data": {
            "text/plain": [
              "'Alberta First Nation calls for access to Jasper National Park, saying they were evicted'"
            ],
            "application/vnd.google.colaboratory.intrinsic+json": {
              "type": "string"
            }
          },
          "metadata": {},
          "execution_count": 16
        }
      ]
    },
    {
      "cell_type": "markdown",
      "source": [
        "Scrapping the news title"
      ],
      "metadata": {
        "id": "CQMvnGNQGUjA"
      }
    },
    {
      "cell_type": "code",
      "source": [
        "for news_title in news_titles:\n",
        "    print(news_title.text)"
      ],
      "metadata": {
        "colab": {
          "base_uri": "https://localhost:8080/"
        },
        "id": "pcc19UDdBRXp",
        "outputId": "e6a69779-8278-47c3-b644-72dbdabf2336"
      },
      "execution_count": 17,
      "outputs": [
        {
          "output_type": "stream",
          "name": "stdout",
          "text": [
            "Alberta First Nation calls for access to Jasper National Park, saying they were evicted\n",
            "Vodka from CO2? Feasible. Energy storage? Fantasy. Danielle Smith's hot-and-cold views on technology\n",
            "Ontario expands Holocaust education in schools to combat rise in antisemitism\n",
            "Some N.S. seniors struggling financially say they need support from friends, family to make ends meet\n",
            "Curler Brad Gushue rips World Curling for 'incompetence' in organizing Kelowna event\n",
            "Sign away his son or be homeless: Single dad struggling in St. John's housing crisis\n",
            "Crown presses Nygard to admit he had interactions with sex assault complainants\n",
            "Teen driver who killed Calgary police officer can now be identified\n",
            "Whistleblowers secretly recorded civil servant slamming 'outright incompetence' at federal green fund\n",
            "All aboard Danielle Smith's bullet train to never-ending Alberta super-growth\n",
            "Suncor plans to pump 1 billion barrels of oil from a wetland — but vows to protect the other half with a wall\n",
            "No charges for alleged threats toward Jewish community at Queen's University house party\n",
            "Why it's getting harder for Doug Ford to sidestep blame for Greenbelt scandal\n",
            "Ottawa teacher suspended for 2 days after confining student in locker\n",
            "Manitoba joins carbon tax exemption fray, seeks 'greater fairness' from Ottawa\n",
            "Boyfriend pleads guilty to murder of Ashley Simpson at start of trial in Salmon Arm, B.C.\n",
            "More than 100 foreign-trained doctors apply to new licensing program in New Brunswick\n",
            "P.E.I. suffered 'shocking' coastline loss from Fiona, data analysis shows\n",
            "Ontario college revokes international student admissions again — leaving hundreds scrambling\n",
            "A northern Saskatchewan community is calling for help amid unrelenting violence\n",
            "As Alberta threatens to pull out of CPP, Freeland calls a meeting with other finance ministers\n",
            "Canadian Tire told student her used SUV was safe, but missed a dangerous flaw during required inspection\n",
            "Already Canada's priciest, Ontario farmland could hit new record values, analysts say\n",
            "3 Winnipeg grandmothers band together to create rap song in support of landfill search, MMIWG\n",
            "Is Canada in a recession? Latest monthly GDP numbers show economy hasn't expanded since May\n",
            "Married B.C. therapists face another lawsuit over actions in MDMA therapy trial\n",
            "Manitoba woman whose son died in Bosnia named National Silver Cross Mother\n",
            "How a soul-searching journey to Japan landed Canada's Hana Furumoto-Deshaies in Pan Am Games dojo\n"
          ]
        }
      ]
    },
    {
      "cell_type": "code",
      "source": [
        "news_titles_df = pd.DataFrame(news_titles)"
      ],
      "metadata": {
        "id": "4Azrf-QV38sR"
      },
      "execution_count": 18,
      "outputs": []
    },
    {
      "cell_type": "code",
      "source": [
        "news_titles_df"
      ],
      "metadata": {
        "colab": {
          "base_uri": "https://localhost:8080/",
          "height": 927
        },
        "id": "OnsQ_BVA4iiD",
        "outputId": "ff3bffb4-0825-4bf1-c802-69875a7335b6"
      },
      "execution_count": 19,
      "outputs": [
        {
          "output_type": "execute_result",
          "data": {
            "text/plain": [
              "                                                    0\n",
              "0   Alberta First Nation calls for access to Jaspe...\n",
              "1   Vodka from CO2? Feasible. Energy storage? Fant...\n",
              "2   Ontario expands Holocaust education in schools...\n",
              "3   Some N.S. seniors struggling financially say t...\n",
              "4   Curler Brad Gushue rips World Curling for 'inc...\n",
              "5   Sign away his son or be homeless: Single dad s...\n",
              "6   Crown presses Nygard to admit he had interacti...\n",
              "7   Teen driver who killed Calgary police officer ...\n",
              "8   Whistleblowers secretly recorded civil servant...\n",
              "9   All aboard Danielle Smith's bullet train to ne...\n",
              "10  Suncor plans to pump 1 billion barrels of oil ...\n",
              "11  No charges for alleged threats toward Jewish c...\n",
              "12  Why it's getting harder for Doug Ford to sides...\n",
              "13  Ottawa teacher suspended for 2 days after conf...\n",
              "14  Manitoba joins carbon tax exemption fray, seek...\n",
              "15  Boyfriend pleads guilty to murder of Ashley Si...\n",
              "16  More than 100 foreign-trained doctors apply to...\n",
              "17  P.E.I. suffered 'shocking' coastline loss from...\n",
              "18  Ontario college revokes international student ...\n",
              "19  A northern Saskatchewan community is calling f...\n",
              "20  As Alberta threatens to pull out of CPP, Freel...\n",
              "21  Canadian Tire told student her used SUV was sa...\n",
              "22  Already Canada's priciest, Ontario farmland co...\n",
              "23  3 Winnipeg grandmothers band together to creat...\n",
              "24  Is Canada in a recession? Latest monthly GDP n...\n",
              "25  Married B.C. therapists face another lawsuit o...\n",
              "26  Manitoba woman whose son died in Bosnia named ...\n",
              "27  How a soul-searching journey to Japan landed C..."
            ],
            "text/html": [
              "\n",
              "  <div id=\"df-6dd04f93-a4ca-4c83-a147-7a2b57d6b089\" class=\"colab-df-container\">\n",
              "    <div>\n",
              "<style scoped>\n",
              "    .dataframe tbody tr th:only-of-type {\n",
              "        vertical-align: middle;\n",
              "    }\n",
              "\n",
              "    .dataframe tbody tr th {\n",
              "        vertical-align: top;\n",
              "    }\n",
              "\n",
              "    .dataframe thead th {\n",
              "        text-align: right;\n",
              "    }\n",
              "</style>\n",
              "<table border=\"1\" class=\"dataframe\">\n",
              "  <thead>\n",
              "    <tr style=\"text-align: right;\">\n",
              "      <th></th>\n",
              "      <th>0</th>\n",
              "    </tr>\n",
              "  </thead>\n",
              "  <tbody>\n",
              "    <tr>\n",
              "      <th>0</th>\n",
              "      <td>Alberta First Nation calls for access to Jaspe...</td>\n",
              "    </tr>\n",
              "    <tr>\n",
              "      <th>1</th>\n",
              "      <td>Vodka from CO2? Feasible. Energy storage? Fant...</td>\n",
              "    </tr>\n",
              "    <tr>\n",
              "      <th>2</th>\n",
              "      <td>Ontario expands Holocaust education in schools...</td>\n",
              "    </tr>\n",
              "    <tr>\n",
              "      <th>3</th>\n",
              "      <td>Some N.S. seniors struggling financially say t...</td>\n",
              "    </tr>\n",
              "    <tr>\n",
              "      <th>4</th>\n",
              "      <td>Curler Brad Gushue rips World Curling for 'inc...</td>\n",
              "    </tr>\n",
              "    <tr>\n",
              "      <th>5</th>\n",
              "      <td>Sign away his son or be homeless: Single dad s...</td>\n",
              "    </tr>\n",
              "    <tr>\n",
              "      <th>6</th>\n",
              "      <td>Crown presses Nygard to admit he had interacti...</td>\n",
              "    </tr>\n",
              "    <tr>\n",
              "      <th>7</th>\n",
              "      <td>Teen driver who killed Calgary police officer ...</td>\n",
              "    </tr>\n",
              "    <tr>\n",
              "      <th>8</th>\n",
              "      <td>Whistleblowers secretly recorded civil servant...</td>\n",
              "    </tr>\n",
              "    <tr>\n",
              "      <th>9</th>\n",
              "      <td>All aboard Danielle Smith's bullet train to ne...</td>\n",
              "    </tr>\n",
              "    <tr>\n",
              "      <th>10</th>\n",
              "      <td>Suncor plans to pump 1 billion barrels of oil ...</td>\n",
              "    </tr>\n",
              "    <tr>\n",
              "      <th>11</th>\n",
              "      <td>No charges for alleged threats toward Jewish c...</td>\n",
              "    </tr>\n",
              "    <tr>\n",
              "      <th>12</th>\n",
              "      <td>Why it's getting harder for Doug Ford to sides...</td>\n",
              "    </tr>\n",
              "    <tr>\n",
              "      <th>13</th>\n",
              "      <td>Ottawa teacher suspended for 2 days after conf...</td>\n",
              "    </tr>\n",
              "    <tr>\n",
              "      <th>14</th>\n",
              "      <td>Manitoba joins carbon tax exemption fray, seek...</td>\n",
              "    </tr>\n",
              "    <tr>\n",
              "      <th>15</th>\n",
              "      <td>Boyfriend pleads guilty to murder of Ashley Si...</td>\n",
              "    </tr>\n",
              "    <tr>\n",
              "      <th>16</th>\n",
              "      <td>More than 100 foreign-trained doctors apply to...</td>\n",
              "    </tr>\n",
              "    <tr>\n",
              "      <th>17</th>\n",
              "      <td>P.E.I. suffered 'shocking' coastline loss from...</td>\n",
              "    </tr>\n",
              "    <tr>\n",
              "      <th>18</th>\n",
              "      <td>Ontario college revokes international student ...</td>\n",
              "    </tr>\n",
              "    <tr>\n",
              "      <th>19</th>\n",
              "      <td>A northern Saskatchewan community is calling f...</td>\n",
              "    </tr>\n",
              "    <tr>\n",
              "      <th>20</th>\n",
              "      <td>As Alberta threatens to pull out of CPP, Freel...</td>\n",
              "    </tr>\n",
              "    <tr>\n",
              "      <th>21</th>\n",
              "      <td>Canadian Tire told student her used SUV was sa...</td>\n",
              "    </tr>\n",
              "    <tr>\n",
              "      <th>22</th>\n",
              "      <td>Already Canada's priciest, Ontario farmland co...</td>\n",
              "    </tr>\n",
              "    <tr>\n",
              "      <th>23</th>\n",
              "      <td>3 Winnipeg grandmothers band together to creat...</td>\n",
              "    </tr>\n",
              "    <tr>\n",
              "      <th>24</th>\n",
              "      <td>Is Canada in a recession? Latest monthly GDP n...</td>\n",
              "    </tr>\n",
              "    <tr>\n",
              "      <th>25</th>\n",
              "      <td>Married B.C. therapists face another lawsuit o...</td>\n",
              "    </tr>\n",
              "    <tr>\n",
              "      <th>26</th>\n",
              "      <td>Manitoba woman whose son died in Bosnia named ...</td>\n",
              "    </tr>\n",
              "    <tr>\n",
              "      <th>27</th>\n",
              "      <td>How a soul-searching journey to Japan landed C...</td>\n",
              "    </tr>\n",
              "  </tbody>\n",
              "</table>\n",
              "</div>\n",
              "    <div class=\"colab-df-buttons\">\n",
              "\n",
              "  <div class=\"colab-df-container\">\n",
              "    <button class=\"colab-df-convert\" onclick=\"convertToInteractive('df-6dd04f93-a4ca-4c83-a147-7a2b57d6b089')\"\n",
              "            title=\"Convert this dataframe to an interactive table.\"\n",
              "            style=\"display:none;\">\n",
              "\n",
              "  <svg xmlns=\"http://www.w3.org/2000/svg\" height=\"24px\" viewBox=\"0 -960 960 960\">\n",
              "    <path d=\"M120-120v-720h720v720H120Zm60-500h600v-160H180v160Zm220 220h160v-160H400v160Zm0 220h160v-160H400v160ZM180-400h160v-160H180v160Zm440 0h160v-160H620v160ZM180-180h160v-160H180v160Zm440 0h160v-160H620v160Z\"/>\n",
              "  </svg>\n",
              "    </button>\n",
              "\n",
              "  <style>\n",
              "    .colab-df-container {\n",
              "      display:flex;\n",
              "      gap: 12px;\n",
              "    }\n",
              "\n",
              "    .colab-df-convert {\n",
              "      background-color: #E8F0FE;\n",
              "      border: none;\n",
              "      border-radius: 50%;\n",
              "      cursor: pointer;\n",
              "      display: none;\n",
              "      fill: #1967D2;\n",
              "      height: 32px;\n",
              "      padding: 0 0 0 0;\n",
              "      width: 32px;\n",
              "    }\n",
              "\n",
              "    .colab-df-convert:hover {\n",
              "      background-color: #E2EBFA;\n",
              "      box-shadow: 0px 1px 2px rgba(60, 64, 67, 0.3), 0px 1px 3px 1px rgba(60, 64, 67, 0.15);\n",
              "      fill: #174EA6;\n",
              "    }\n",
              "\n",
              "    .colab-df-buttons div {\n",
              "      margin-bottom: 4px;\n",
              "    }\n",
              "\n",
              "    [theme=dark] .colab-df-convert {\n",
              "      background-color: #3B4455;\n",
              "      fill: #D2E3FC;\n",
              "    }\n",
              "\n",
              "    [theme=dark] .colab-df-convert:hover {\n",
              "      background-color: #434B5C;\n",
              "      box-shadow: 0px 1px 3px 1px rgba(0, 0, 0, 0.15);\n",
              "      filter: drop-shadow(0px 1px 2px rgba(0, 0, 0, 0.3));\n",
              "      fill: #FFFFFF;\n",
              "    }\n",
              "  </style>\n",
              "\n",
              "    <script>\n",
              "      const buttonEl =\n",
              "        document.querySelector('#df-6dd04f93-a4ca-4c83-a147-7a2b57d6b089 button.colab-df-convert');\n",
              "      buttonEl.style.display =\n",
              "        google.colab.kernel.accessAllowed ? 'block' : 'none';\n",
              "\n",
              "      async function convertToInteractive(key) {\n",
              "        const element = document.querySelector('#df-6dd04f93-a4ca-4c83-a147-7a2b57d6b089');\n",
              "        const dataTable =\n",
              "          await google.colab.kernel.invokeFunction('convertToInteractive',\n",
              "                                                    [key], {});\n",
              "        if (!dataTable) return;\n",
              "\n",
              "        const docLinkHtml = 'Like what you see? Visit the ' +\n",
              "          '<a target=\"_blank\" href=https://colab.research.google.com/notebooks/data_table.ipynb>data table notebook</a>'\n",
              "          + ' to learn more about interactive tables.';\n",
              "        element.innerHTML = '';\n",
              "        dataTable['output_type'] = 'display_data';\n",
              "        await google.colab.output.renderOutput(dataTable, element);\n",
              "        const docLink = document.createElement('div');\n",
              "        docLink.innerHTML = docLinkHtml;\n",
              "        element.appendChild(docLink);\n",
              "      }\n",
              "    </script>\n",
              "  </div>\n",
              "\n",
              "\n",
              "<div id=\"df-d62f7fba-5806-4b65-8af4-4271345c880c\">\n",
              "  <button class=\"colab-df-quickchart\" onclick=\"quickchart('df-d62f7fba-5806-4b65-8af4-4271345c880c')\"\n",
              "            title=\"Suggest charts.\"\n",
              "            style=\"display:none;\">\n",
              "\n",
              "<svg xmlns=\"http://www.w3.org/2000/svg\" height=\"24px\"viewBox=\"0 0 24 24\"\n",
              "     width=\"24px\">\n",
              "    <g>\n",
              "        <path d=\"M19 3H5c-1.1 0-2 .9-2 2v14c0 1.1.9 2 2 2h14c1.1 0 2-.9 2-2V5c0-1.1-.9-2-2-2zM9 17H7v-7h2v7zm4 0h-2V7h2v10zm4 0h-2v-4h2v4z\"/>\n",
              "    </g>\n",
              "</svg>\n",
              "  </button>\n",
              "\n",
              "<style>\n",
              "  .colab-df-quickchart {\n",
              "      --bg-color: #E8F0FE;\n",
              "      --fill-color: #1967D2;\n",
              "      --hover-bg-color: #E2EBFA;\n",
              "      --hover-fill-color: #174EA6;\n",
              "      --disabled-fill-color: #AAA;\n",
              "      --disabled-bg-color: #DDD;\n",
              "  }\n",
              "\n",
              "  [theme=dark] .colab-df-quickchart {\n",
              "      --bg-color: #3B4455;\n",
              "      --fill-color: #D2E3FC;\n",
              "      --hover-bg-color: #434B5C;\n",
              "      --hover-fill-color: #FFFFFF;\n",
              "      --disabled-bg-color: #3B4455;\n",
              "      --disabled-fill-color: #666;\n",
              "  }\n",
              "\n",
              "  .colab-df-quickchart {\n",
              "    background-color: var(--bg-color);\n",
              "    border: none;\n",
              "    border-radius: 50%;\n",
              "    cursor: pointer;\n",
              "    display: none;\n",
              "    fill: var(--fill-color);\n",
              "    height: 32px;\n",
              "    padding: 0;\n",
              "    width: 32px;\n",
              "  }\n",
              "\n",
              "  .colab-df-quickchart:hover {\n",
              "    background-color: var(--hover-bg-color);\n",
              "    box-shadow: 0 1px 2px rgba(60, 64, 67, 0.3), 0 1px 3px 1px rgba(60, 64, 67, 0.15);\n",
              "    fill: var(--button-hover-fill-color);\n",
              "  }\n",
              "\n",
              "  .colab-df-quickchart-complete:disabled,\n",
              "  .colab-df-quickchart-complete:disabled:hover {\n",
              "    background-color: var(--disabled-bg-color);\n",
              "    fill: var(--disabled-fill-color);\n",
              "    box-shadow: none;\n",
              "  }\n",
              "\n",
              "  .colab-df-spinner {\n",
              "    border: 2px solid var(--fill-color);\n",
              "    border-color: transparent;\n",
              "    border-bottom-color: var(--fill-color);\n",
              "    animation:\n",
              "      spin 1s steps(1) infinite;\n",
              "  }\n",
              "\n",
              "  @keyframes spin {\n",
              "    0% {\n",
              "      border-color: transparent;\n",
              "      border-bottom-color: var(--fill-color);\n",
              "      border-left-color: var(--fill-color);\n",
              "    }\n",
              "    20% {\n",
              "      border-color: transparent;\n",
              "      border-left-color: var(--fill-color);\n",
              "      border-top-color: var(--fill-color);\n",
              "    }\n",
              "    30% {\n",
              "      border-color: transparent;\n",
              "      border-left-color: var(--fill-color);\n",
              "      border-top-color: var(--fill-color);\n",
              "      border-right-color: var(--fill-color);\n",
              "    }\n",
              "    40% {\n",
              "      border-color: transparent;\n",
              "      border-right-color: var(--fill-color);\n",
              "      border-top-color: var(--fill-color);\n",
              "    }\n",
              "    60% {\n",
              "      border-color: transparent;\n",
              "      border-right-color: var(--fill-color);\n",
              "    }\n",
              "    80% {\n",
              "      border-color: transparent;\n",
              "      border-right-color: var(--fill-color);\n",
              "      border-bottom-color: var(--fill-color);\n",
              "    }\n",
              "    90% {\n",
              "      border-color: transparent;\n",
              "      border-bottom-color: var(--fill-color);\n",
              "    }\n",
              "  }\n",
              "</style>\n",
              "\n",
              "  <script>\n",
              "    async function quickchart(key) {\n",
              "      const quickchartButtonEl =\n",
              "        document.querySelector('#' + key + ' button');\n",
              "      quickchartButtonEl.disabled = true;  // To prevent multiple clicks.\n",
              "      quickchartButtonEl.classList.add('colab-df-spinner');\n",
              "      try {\n",
              "        const charts = await google.colab.kernel.invokeFunction(\n",
              "            'suggestCharts', [key], {});\n",
              "      } catch (error) {\n",
              "        console.error('Error during call to suggestCharts:', error);\n",
              "      }\n",
              "      quickchartButtonEl.classList.remove('colab-df-spinner');\n",
              "      quickchartButtonEl.classList.add('colab-df-quickchart-complete');\n",
              "    }\n",
              "    (() => {\n",
              "      let quickchartButtonEl =\n",
              "        document.querySelector('#df-d62f7fba-5806-4b65-8af4-4271345c880c button');\n",
              "      quickchartButtonEl.style.display =\n",
              "        google.colab.kernel.accessAllowed ? 'block' : 'none';\n",
              "    })();\n",
              "  </script>\n",
              "</div>\n",
              "    </div>\n",
              "  </div>\n"
            ]
          },
          "metadata": {},
          "execution_count": 19
        }
      ]
    },
    {
      "cell_type": "markdown",
      "source": [
        "Scrapping the links\n"
      ],
      "metadata": {
        "id": "ZvoPu4MeGYga"
      }
    },
    {
      "cell_type": "code",
      "source": [
        "all_links = [i['href'] for i in soup.find_all('a', href=True)]\n",
        "print(all_links)"
      ],
      "metadata": {
        "colab": {
          "base_uri": "https://localhost:8080/"
        },
        "id": "sUURb_4MRWj4",
        "outputId": "fed7e8d7-699c-47b3-cef2-440cbf491fe4"
      },
      "execution_count": 20,
      "outputs": [
        {
          "output_type": "stream",
          "name": "stdout",
          "text": [
            "['#content', '#content', '/accessibility', '/', '//www.cbc.ca/sitemap', '/search', '/news', '/sports', '/radio', '/music', '//www.cbc.ca/listen/live-radio', '/television', '//gem.cbc.ca', '/news', '/news', '/news/local', '/news/climate', '/news/world', '/news/politics', '/news/indigenous', '/news/opinion', '/news/thenational', '/news/business', '/news/health', '/news/entertainment', '/news/science', '/news/investigates', '/news/gopublic', '/news/about-cbc-news-1.1294364', '/news/canada/beingblackincanada', '/news/canada/edmonton/first-nation-hunting-access-jasper-park-alberta-1.7014906', '/news/canada/edmonton/first-nation-hunting-access-jasper-park-alberta-1.7014906', '/news/canada/calgary/alberta-energy-storage-danielle-smith-fantasy-vs-reality-1.7012795', '/news/canada/toronto/mandatory-holocaust-education-schools-1.7015118', '/player/play/2277885507557', '/sports/olympics/winter/curling/pan-continental-curling-brad-gushue-upset-1.7014966', '/news/canada/newfoundland-labrador/tristen-keats-housing-crisis-shelters-1.7012896', '/news/canada/toronto/peter-nygard-sexual-assault-trial-1.7015155', '/news/canada/calgary/calgary-police-sgt-andrew-harnett-teen-identified-1.7013010', '/news/politics/sdtc-whistleblowers-recordings-1.7014108', '/news/canada/calgary/alberta-population-danielle-smith-high-speed-rail-analysis-1.7013363', '/news/canada/calgary/alberta-wetland-oilsands-environment-1.7013213', '/news/canada/ottawa/kingston-police-investigate-halloween-party-threats-to-jewish-community-1.7015146', '/news/canada/toronto/ontario-doug-ford-greenbelt-land-development-housing-1.7014360', '/news/canada/ottawa/teacher-suspension-locker-college-franco-ouest-1.7013016', '/news/canada/manitoba/manitoba-carbon-tax-relief-1.7014540', '/news/canada/british-columbia/ashley-simpson-murder-trial-begins-1.7011371', '/news/canada/new-brunswick/doctors-college-physicians-surgeons-new-brunswick-foreign-trained-licence-1.7012884', '/news/canada/prince-edward-island/pei-coastline-loss-2022-post-fiona-report-1.7010862', '/news/canada/toronto/ontario-college-revokes-applications-again-1.7012594', '/news/canada/saskatchewan/pelican-narrows-state-of-emergency-violence-1.7011085', '/news/politics/freeland-meeting-provinces-cpp-1.7014242', '/news/canada/manitoba/car-safety-inspection-canadian-tire-1.7009194', '/news/canada/london/ontario-real-estate-farmland-agriculture-1.7012778', '/news/canada/manitoba/grassroots-grannies-winnipeg-rap-song-1.7013093', '/news/business/canada-gdp-august-1.7013612', '/news/canada/british-columbia/b-c-therapists-lawsuit-mdma-trial-1.7010981', '/news/canada/manitoba/silver-cross-mother-gloria-hooper-christopher-holopina-manitoba-1.7012544', '/sports/pan-american-games/pan-am-games-karate-hana-furumoto-deshaies-1.7005736', '/news/editorsblog', 'https://cbc.radio-canada.ca/en/ombudsman/', '/account/login', 'https://gem.cbc.ca/benefits/', 'https://subscriptions.cbc.ca/listmanagement', '/account/features', 'https://www.facebook.com/cbc/', 'https://twitter.com/cbc/', 'https://www.youtube.com/user/CBCtv', 'https://www.instagram.com/cbc/?hl=en', 'https://cbchelp.cbc.ca/hc/en-ca/categories/115000249853-Help-with-CBC-Apps', 'https://www.cbc.ca/rss/', '/radio/podcasts', 'https://cbchelp.cbc.ca/hc/en-ca/requests/new', 'https://cbchelp.cbc.ca/hc/en-ca', 'https://cbc.radio-canada.ca/en', '/sitemap', 'https://cbchelp.cbc.ca/hc/en-ca/sections/203864688-Using-or-licensing-CBC-content', 'https://cbc.radio-canada.ca/en/vision/governance/terms-of-use-digital-services', '/account/privacy', 'https://cbc.radio-canada.ca/en/working-with-us/jobs/', 'https://cbc.radio-canada.ca/en/vision/unions-associations', 'https://www.cbc.ca/independentproducers/', 'https://cbc.radio-canada.ca/en/impact-and-accountability/regulatory/political-ads-registry', '/mycbc/adpreferences', 'https://cbc.radio-canada.ca/en/ombudsman/', 'https://www.cbc.ca/news/corrections-clarifications-1.5893564', 'https://www.cbc.ca/news/public-appearances-1.4969965', 'https://cbc.radio-canada.ca/en/services/commercial-services/', 'http://www.cbcshop.ca/', 'https://cbc.radio-canada.ca/en/working-with-us/partners-and-suppliers/', 'https://www.cbc.ca/productionfacilities/', 'https://ici.radio-canada.ca/rci/en', 'https://www.cbc.ca/lite', 'https://gem.cbc.ca/', '/accessibility', '/accessibility/accessibility-feedback-1.5131151', 'https://cbc.radio-canada.ca/en', 'https://ici.radio-canada.ca/']\n"
          ]
        }
      ]
    },
    {
      "cell_type": "code",
      "source": [
        "for i in soup.find_all('a', href=True):\n",
        "  print(i['href'])"
      ],
      "metadata": {
        "colab": {
          "base_uri": "https://localhost:8080/"
        },
        "id": "x9oE8JFZdSqR",
        "outputId": "44a11ef9-e0a3-41aa-b5f2-c34a3b487b9b"
      },
      "execution_count": 21,
      "outputs": [
        {
          "output_type": "stream",
          "name": "stdout",
          "text": [
            "#content\n",
            "#content\n",
            "/accessibility\n",
            "/\n",
            "//www.cbc.ca/sitemap\n",
            "/search\n",
            "/news\n",
            "/sports\n",
            "/radio\n",
            "/music\n",
            "//www.cbc.ca/listen/live-radio\n",
            "/television\n",
            "//gem.cbc.ca\n",
            "/news\n",
            "/news\n",
            "/news/local\n",
            "/news/climate\n",
            "/news/world\n",
            "/news/politics\n",
            "/news/indigenous\n",
            "/news/opinion\n",
            "/news/thenational\n",
            "/news/business\n",
            "/news/health\n",
            "/news/entertainment\n",
            "/news/science\n",
            "/news/investigates\n",
            "/news/gopublic\n",
            "/news/about-cbc-news-1.1294364\n",
            "/news/canada/beingblackincanada\n",
            "/news/canada/edmonton/first-nation-hunting-access-jasper-park-alberta-1.7014906\n",
            "/news/canada/edmonton/first-nation-hunting-access-jasper-park-alberta-1.7014906\n",
            "/news/canada/calgary/alberta-energy-storage-danielle-smith-fantasy-vs-reality-1.7012795\n",
            "/news/canada/toronto/mandatory-holocaust-education-schools-1.7015118\n",
            "/player/play/2277885507557\n",
            "/sports/olympics/winter/curling/pan-continental-curling-brad-gushue-upset-1.7014966\n",
            "/news/canada/newfoundland-labrador/tristen-keats-housing-crisis-shelters-1.7012896\n",
            "/news/canada/toronto/peter-nygard-sexual-assault-trial-1.7015155\n",
            "/news/canada/calgary/calgary-police-sgt-andrew-harnett-teen-identified-1.7013010\n",
            "/news/politics/sdtc-whistleblowers-recordings-1.7014108\n",
            "/news/canada/calgary/alberta-population-danielle-smith-high-speed-rail-analysis-1.7013363\n",
            "/news/canada/calgary/alberta-wetland-oilsands-environment-1.7013213\n",
            "/news/canada/ottawa/kingston-police-investigate-halloween-party-threats-to-jewish-community-1.7015146\n",
            "/news/canada/toronto/ontario-doug-ford-greenbelt-land-development-housing-1.7014360\n",
            "/news/canada/ottawa/teacher-suspension-locker-college-franco-ouest-1.7013016\n",
            "/news/canada/manitoba/manitoba-carbon-tax-relief-1.7014540\n",
            "/news/canada/british-columbia/ashley-simpson-murder-trial-begins-1.7011371\n",
            "/news/canada/new-brunswick/doctors-college-physicians-surgeons-new-brunswick-foreign-trained-licence-1.7012884\n",
            "/news/canada/prince-edward-island/pei-coastline-loss-2022-post-fiona-report-1.7010862\n",
            "/news/canada/toronto/ontario-college-revokes-applications-again-1.7012594\n",
            "/news/canada/saskatchewan/pelican-narrows-state-of-emergency-violence-1.7011085\n",
            "/news/politics/freeland-meeting-provinces-cpp-1.7014242\n",
            "/news/canada/manitoba/car-safety-inspection-canadian-tire-1.7009194\n",
            "/news/canada/london/ontario-real-estate-farmland-agriculture-1.7012778\n",
            "/news/canada/manitoba/grassroots-grannies-winnipeg-rap-song-1.7013093\n",
            "/news/business/canada-gdp-august-1.7013612\n",
            "/news/canada/british-columbia/b-c-therapists-lawsuit-mdma-trial-1.7010981\n",
            "/news/canada/manitoba/silver-cross-mother-gloria-hooper-christopher-holopina-manitoba-1.7012544\n",
            "/sports/pan-american-games/pan-am-games-karate-hana-furumoto-deshaies-1.7005736\n",
            "/news/editorsblog\n",
            "https://cbc.radio-canada.ca/en/ombudsman/\n",
            "/account/login\n",
            "https://gem.cbc.ca/benefits/\n",
            "https://subscriptions.cbc.ca/listmanagement\n",
            "/account/features\n",
            "https://www.facebook.com/cbc/\n",
            "https://twitter.com/cbc/\n",
            "https://www.youtube.com/user/CBCtv\n",
            "https://www.instagram.com/cbc/?hl=en\n",
            "https://cbchelp.cbc.ca/hc/en-ca/categories/115000249853-Help-with-CBC-Apps\n",
            "https://www.cbc.ca/rss/\n",
            "/radio/podcasts\n",
            "https://cbchelp.cbc.ca/hc/en-ca/requests/new\n",
            "https://cbchelp.cbc.ca/hc/en-ca\n",
            "https://cbc.radio-canada.ca/en\n",
            "/sitemap\n",
            "https://cbchelp.cbc.ca/hc/en-ca/sections/203864688-Using-or-licensing-CBC-content\n",
            "https://cbc.radio-canada.ca/en/vision/governance/terms-of-use-digital-services\n",
            "/account/privacy\n",
            "https://cbc.radio-canada.ca/en/working-with-us/jobs/\n",
            "https://cbc.radio-canada.ca/en/vision/unions-associations\n",
            "https://www.cbc.ca/independentproducers/\n",
            "https://cbc.radio-canada.ca/en/impact-and-accountability/regulatory/political-ads-registry\n",
            "/mycbc/adpreferences\n",
            "https://cbc.radio-canada.ca/en/ombudsman/\n",
            "https://www.cbc.ca/news/corrections-clarifications-1.5893564\n",
            "https://www.cbc.ca/news/public-appearances-1.4969965\n",
            "https://cbc.radio-canada.ca/en/services/commercial-services/\n",
            "http://www.cbcshop.ca/\n",
            "https://cbc.radio-canada.ca/en/working-with-us/partners-and-suppliers/\n",
            "https://www.cbc.ca/productionfacilities/\n",
            "https://ici.radio-canada.ca/rci/en\n",
            "https://www.cbc.ca/lite\n",
            "https://gem.cbc.ca/\n",
            "/accessibility\n",
            "/accessibility/accessibility-feedback-1.5131151\n",
            "https://cbc.radio-canada.ca/en\n",
            "https://ici.radio-canada.ca/\n"
          ]
        }
      ]
    },
    {
      "cell_type": "markdown",
      "source": [
        "Only getting the link with /news/canada"
      ],
      "metadata": {
        "id": "CvWvseBIvj4r"
      }
    },
    {
      "cell_type": "code",
      "source": [
        "for i in soup.find_all('a', href=True):\n",
        "    if 'news/canada' in i['href']:\n",
        "        print('https://www.cbc.ca/'+i['href'])\n"
      ],
      "metadata": {
        "colab": {
          "base_uri": "https://localhost:8080/"
        },
        "id": "Gj_-0VKnuKwR",
        "outputId": "a62926a1-0fc9-4fe8-b0ab-c0c77c436aa2"
      },
      "execution_count": 22,
      "outputs": [
        {
          "output_type": "stream",
          "name": "stdout",
          "text": [
            "https://www.cbc.ca//news/canada/beingblackincanada\n",
            "https://www.cbc.ca//news/canada/edmonton/first-nation-hunting-access-jasper-park-alberta-1.7014906\n",
            "https://www.cbc.ca//news/canada/edmonton/first-nation-hunting-access-jasper-park-alberta-1.7014906\n",
            "https://www.cbc.ca//news/canada/calgary/alberta-energy-storage-danielle-smith-fantasy-vs-reality-1.7012795\n",
            "https://www.cbc.ca//news/canada/toronto/mandatory-holocaust-education-schools-1.7015118\n",
            "https://www.cbc.ca//news/canada/newfoundland-labrador/tristen-keats-housing-crisis-shelters-1.7012896\n",
            "https://www.cbc.ca//news/canada/toronto/peter-nygard-sexual-assault-trial-1.7015155\n",
            "https://www.cbc.ca//news/canada/calgary/calgary-police-sgt-andrew-harnett-teen-identified-1.7013010\n",
            "https://www.cbc.ca//news/canada/calgary/alberta-population-danielle-smith-high-speed-rail-analysis-1.7013363\n",
            "https://www.cbc.ca//news/canada/calgary/alberta-wetland-oilsands-environment-1.7013213\n",
            "https://www.cbc.ca//news/canada/ottawa/kingston-police-investigate-halloween-party-threats-to-jewish-community-1.7015146\n",
            "https://www.cbc.ca//news/canada/toronto/ontario-doug-ford-greenbelt-land-development-housing-1.7014360\n",
            "https://www.cbc.ca//news/canada/ottawa/teacher-suspension-locker-college-franco-ouest-1.7013016\n",
            "https://www.cbc.ca//news/canada/manitoba/manitoba-carbon-tax-relief-1.7014540\n",
            "https://www.cbc.ca//news/canada/british-columbia/ashley-simpson-murder-trial-begins-1.7011371\n",
            "https://www.cbc.ca//news/canada/new-brunswick/doctors-college-physicians-surgeons-new-brunswick-foreign-trained-licence-1.7012884\n",
            "https://www.cbc.ca//news/canada/prince-edward-island/pei-coastline-loss-2022-post-fiona-report-1.7010862\n",
            "https://www.cbc.ca//news/canada/toronto/ontario-college-revokes-applications-again-1.7012594\n",
            "https://www.cbc.ca//news/canada/saskatchewan/pelican-narrows-state-of-emergency-violence-1.7011085\n",
            "https://www.cbc.ca//news/canada/manitoba/car-safety-inspection-canadian-tire-1.7009194\n",
            "https://www.cbc.ca//news/canada/london/ontario-real-estate-farmland-agriculture-1.7012778\n",
            "https://www.cbc.ca//news/canada/manitoba/grassroots-grannies-winnipeg-rap-song-1.7013093\n",
            "https://www.cbc.ca//news/canada/british-columbia/b-c-therapists-lawsuit-mdma-trial-1.7010981\n",
            "https://www.cbc.ca//news/canada/manitoba/silver-cross-mother-gloria-hooper-christopher-holopina-manitoba-1.7012544\n"
          ]
        }
      ]
    },
    {
      "cell_type": "markdown",
      "source": [
        "Only getting news in toronto with reading the html"
      ],
      "metadata": {
        "id": "YjfbT1iEyMN9"
      }
    },
    {
      "cell_type": "code",
      "source": [
        "for i in soup.find_all('a', href=True):\n",
        "    if 'news/canada/toronto' in i['href']:\n",
        "        print('https://www.cbc.ca/'+i['href'])"
      ],
      "metadata": {
        "colab": {
          "base_uri": "https://localhost:8080/"
        },
        "id": "SG6d2tZDwZ1Z",
        "outputId": "282f35ad-fa4d-4a34-87bf-bc557291baef"
      },
      "execution_count": 23,
      "outputs": [
        {
          "output_type": "stream",
          "name": "stdout",
          "text": [
            "https://www.cbc.ca//news/canada/toronto/mandatory-holocaust-education-schools-1.7015118\n",
            "https://www.cbc.ca//news/canada/toronto/peter-nygard-sexual-assault-trial-1.7015155\n",
            "https://www.cbc.ca//news/canada/toronto/ontario-doug-ford-greenbelt-land-development-housing-1.7014360\n",
            "https://www.cbc.ca//news/canada/toronto/ontario-college-revokes-applications-again-1.7012594\n"
          ]
        }
      ]
    },
    {
      "cell_type": "markdown",
      "source": [
        "Getting the news among different cities"
      ],
      "metadata": {
        "id": "kvTHkfAESgP9"
      }
    },
    {
      "cell_type": "code",
      "source": [
        "for i in soup.find_all('a', href=True):\n",
        "    if 'news/canada/toronto' in i['href']:\n",
        "        print('Toronto'+':'+'https://www.cbc.ca/'+i['href'])\n",
        "    if 'news/canada/calgary' in i['href']:\n",
        "        print('Calgary'+':'+'https://www.cbc.ca/'+i['href'])\n",
        "    if 'news/canada/hamilton' in i['href']:\n",
        "        print('Hamilton'+':'+'https://www.cbc.ca/'+i['href'])\n",
        "    if 'news/canada/montreal' in i['href']:\n",
        "        print('Montreal'+':'+'https://www.cbc.ca/'+i['href'])\n",
        ""
      ],
      "metadata": {
        "colab": {
          "base_uri": "https://localhost:8080/"
        },
        "id": "nyvvHn3OYqZZ",
        "outputId": "7220dea4-7458-4a9c-b2f7-8545483c90f9"
      },
      "execution_count": 24,
      "outputs": [
        {
          "output_type": "stream",
          "name": "stdout",
          "text": [
            "Calgary:https://www.cbc.ca//news/canada/calgary/alberta-energy-storage-danielle-smith-fantasy-vs-reality-1.7012795\n",
            "Toronto:https://www.cbc.ca//news/canada/toronto/mandatory-holocaust-education-schools-1.7015118\n",
            "Toronto:https://www.cbc.ca//news/canada/toronto/peter-nygard-sexual-assault-trial-1.7015155\n",
            "Calgary:https://www.cbc.ca//news/canada/calgary/calgary-police-sgt-andrew-harnett-teen-identified-1.7013010\n",
            "Calgary:https://www.cbc.ca//news/canada/calgary/alberta-population-danielle-smith-high-speed-rail-analysis-1.7013363\n",
            "Calgary:https://www.cbc.ca//news/canada/calgary/alberta-wetland-oilsands-environment-1.7013213\n",
            "Toronto:https://www.cbc.ca//news/canada/toronto/ontario-doug-ford-greenbelt-land-development-housing-1.7014360\n",
            "Toronto:https://www.cbc.ca//news/canada/toronto/ontario-college-revokes-applications-again-1.7012594\n"
          ]
        }
      ]
    },
    {
      "cell_type": "markdown",
      "source": [
        "\n"
      ],
      "metadata": {
        "id": "7CeZaA1T0TvQ"
      }
    },
    {
      "cell_type": "code",
      "source": [],
      "metadata": {
        "id": "hjVfPm8PhisZ"
      },
      "execution_count": 24,
      "outputs": []
    }
  ]
}